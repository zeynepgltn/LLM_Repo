{
 "cells": [
  {
   "cell_type": "code",
   "execution_count": 12,
   "id": "d68465d7",
   "metadata": {},
   "outputs": [],
   "source": [
    "# the capital of france is paris\n",
    "\n",
    "prompt = \"the capital of the united states is not \"\n",
    "\n",
    "next_token = \" \"\n",
    "\n",
    "output = \"the capital of france is paris, \""
   ]
  },
  {
   "cell_type": "code",
   "execution_count": 13,
   "id": "97431cfb",
   "metadata": {},
   "outputs": [],
   "source": [
    "data = \"the capital <pad> <pad> <pad> <pad> \"\n",
    "hedef = \"capital of <pad> <pad> <pad> <pad> \""
   ]
  },
  {
   "cell_type": "code",
   "execution_count": null,
   "id": "caedef02",
   "metadata": {},
   "outputs": [],
   "source": []
  },
  {
   "cell_type": "code",
   "execution_count": 41,
   "id": "913a9267",
   "metadata": {},
   "outputs": [],
   "source": [
    "context_length = 2 # gpt-4o 128k, gemma-3-1b 32K"
   ]
  },
  {
   "cell_type": "code",
   "execution_count": 42,
   "id": "550758b3",
   "metadata": {},
   "outputs": [
    {
     "data": {
      "text/plain": [
       "(9, [0, 1, 2, 0, 3, 4, 58, 5, 6])"
      ]
     },
     "execution_count": 42,
     "metadata": {},
     "output_type": "execute_result"
    }
   ],
   "source": [
    "from my_tokenizer import Tokenizer\n",
    "\n",
    "tokenizer = Tokenizer(\"tokenizer.json\")\n",
    "\n",
    "ids = tokenizer.encode(prompt)\n",
    "\n",
    "len(ids), ids"
   ]
  },
  {
   "cell_type": "code",
   "execution_count": 16,
   "id": "5d771bae",
   "metadata": {},
   "outputs": [
    {
     "data": {
      "text/plain": [
       "[2, 1437, 5279, 529, 506, 26974, 5022, 563, 711, 236743]"
      ]
     },
     "execution_count": 16,
     "metadata": {},
     "output_type": "execute_result"
    }
   ],
   "source": [
    "# Load model directly\n",
    "from transformers import AutoTokenizer, Gemma3ForCausalLM\n",
    "\n",
    "gemma_tokenizer = AutoTokenizer.from_pretrained(\"google/gemma-3-1b-it\")\n",
    "gemma_model = Gemma3ForCausalLM.from_pretrained(\"google/gemma-3-1b-it\")\n",
    "\n",
    "gemma_tokenizer.encode(prompt)"
   ]
  },
  {
   "cell_type": "code",
   "execution_count": 17,
   "id": "dfdeef9a",
   "metadata": {},
   "outputs": [
    {
     "data": {
      "text/plain": [
       "Gemma3ForCausalLM(\n",
       "  (model): Gemma3TextModel(\n",
       "    (embed_tokens): Gemma3TextScaledWordEmbedding(262144, 1152, padding_idx=0)\n",
       "    (layers): ModuleList(\n",
       "      (0-25): 26 x Gemma3DecoderLayer(\n",
       "        (self_attn): Gemma3Attention(\n",
       "          (q_proj): Linear(in_features=1152, out_features=1024, bias=False)\n",
       "          (k_proj): Linear(in_features=1152, out_features=256, bias=False)\n",
       "          (v_proj): Linear(in_features=1152, out_features=256, bias=False)\n",
       "          (o_proj): Linear(in_features=1024, out_features=1152, bias=False)\n",
       "          (q_norm): Gemma3RMSNorm((256,), eps=1e-06)\n",
       "          (k_norm): Gemma3RMSNorm((256,), eps=1e-06)\n",
       "        )\n",
       "        (mlp): Gemma3MLP(\n",
       "          (gate_proj): Linear(in_features=1152, out_features=6912, bias=False)\n",
       "          (up_proj): Linear(in_features=1152, out_features=6912, bias=False)\n",
       "          (down_proj): Linear(in_features=6912, out_features=1152, bias=False)\n",
       "          (act_fn): PytorchGELUTanh()\n",
       "        )\n",
       "        (input_layernorm): Gemma3RMSNorm((1152,), eps=1e-06)\n",
       "        (post_attention_layernorm): Gemma3RMSNorm((1152,), eps=1e-06)\n",
       "        (pre_feedforward_layernorm): Gemma3RMSNorm((1152,), eps=1e-06)\n",
       "        (post_feedforward_layernorm): Gemma3RMSNorm((1152,), eps=1e-06)\n",
       "      )\n",
       "    )\n",
       "    (norm): Gemma3RMSNorm((1152,), eps=1e-06)\n",
       "    (rotary_emb): Gemma3RotaryEmbedding()\n",
       "    (rotary_emb_local): Gemma3RotaryEmbedding()\n",
       "  )\n",
       "  (lm_head): Linear(in_features=1152, out_features=262144, bias=False)\n",
       ")"
      ]
     },
     "execution_count": 17,
     "metadata": {},
     "output_type": "execute_result"
    }
   ],
   "source": [
    "gemma_model"
   ]
  },
  {
   "cell_type": "code",
   "execution_count": null,
   "id": "dc2615a5",
   "metadata": {},
   "outputs": [],
   "source": []
  },
  {
   "cell_type": "code",
   "execution_count": 18,
   "id": "12bcbf2d",
   "metadata": {},
   "outputs": [],
   "source": [
    "girdi = \"the letter capital of the united states is not\"\n",
    "cikti = \"letter capital of the united states is not london\""
   ]
  },
  {
   "cell_type": "code",
   "execution_count": 19,
   "id": "0f2f3835",
   "metadata": {},
   "outputs": [
    {
     "data": {
      "text/plain": [
       "'the capital of the united states is not london. the capital of france is paris, and berlin is the capital of germany.  \\nmadrid is in spain, and lisbon is in portugal. the capital of the united kingdom is not paris, and the capital of the  \\nunited states is not berlin. although these places are often mentioned together, although these capitals are often mentioned  \\ntogether, these capitals are often mentioned together in art, in culture, these capitals are often mentioned together in history.  \\neach country has its own capital, and each country has its own city, and each capital has its own identity, and each capital  \\nis the capital of the united states, and london is the capital of the united kingdom. paris is known for art and fashion,  \\nhistory, and rome is known for art and history, and madrid is known for culture and history, and lisbon is known for culture.  \\nrome is rich with history, rome is rich with art, and madrid is rich with art and culture. lisbon is a unique city in portugal  \\nand a rich identity. these capitals are often mentioned together, these capitals are often mentioned together in art, in culture,  \\nthese capitals are often mentioned together in history. the united states is not in europe, the united states is not in europe.  \\nwashington is not in any european city. each european country is made of important capitals, and each european capital  \\nthe capital of the united states is washington, the capital of the united kingdom is london, the capital of france is paris,  \\nthe capital of italy is rome, the capital of spain is madrid, and the capital of portugal is lisbon. while these capitals  \\nin europe, washington is in the united states. these capitals remain important, these remain important, these places remain.  \\ncapital of each country is its own, the capital of each country is its identity, the capital of each country is its culture.  \\neurope is made of many capitals, europe is made of many important places. each place is rich with culture, each place is  \\nrich with identity. the world is made of capitals, the world is made of, the world is made of places, and the capital of  \\nnot any european city, not paris, not london, not berlin. the capital of the united states is not london. the capital of  \\nrome is in italy, madrid is in spain, and lisbon is in portugal. the capital of the united kingdom is not paris, and the united  \\nstates is not berlin. although these places are often mentioned together, each country has its own capital, and each capital  \\nwashington is the capital of the united states, and london is the capital of the united kingdom. paris is known for art and  \\nfamous for its culture and history. rome is rich with history, and madrid is known for its art and culture. lisbon is a city  \\nwith a rich history. these capitals are often mentioned together, although each place with its own culture. the united kingdom  \\nand washington is not in any european country. these european capitals are made of history, culture, and identity. each  \\nand each capital is known for important. london, paris, berlin, rome, madrid, and lisbon remain important places in the  \\nare in europe, washington is in the united states. although these places are not in the country, they are often mentioned  \\nand history. the capital of each country is its own. europe is made of many capitals, and each has a capital with a unique identity.  \\nthe world is of important places, and the capital of the united states is washington, not any european city.\\n'"
      ]
     },
     "execution_count": 19,
     "metadata": {},
     "output_type": "execute_result"
    }
   ],
   "source": [
    "with open(\"text.txt\", \"r\") as f:\n",
    "  text = f.read()\n",
    "\n",
    "text"
   ]
  },
  {
   "cell_type": "code",
   "execution_count": null,
   "id": "23f329fe",
   "metadata": {},
   "outputs": [],
   "source": []
  },
  {
   "cell_type": "code",
   "execution_count": null,
   "id": "c644574c",
   "metadata": {},
   "outputs": [],
   "source": [
    "token_ids = tokenizer.encode(text)\n",
    "token_ids\n",
    "\n",
    "ids_text = \"\"\n",
    "\n",
    "for token_id in token_ids:\n",
    "  ids_text += f\"{token_id} \" \n",
    "  \n",
    "with open(\"token_ids.txt\", \"w\") as f:\n",
    "  f.write(ids_text)"
   ]
  },
  {
   "cell_type": "code",
   "execution_count": null,
   "id": "ad5398d6",
   "metadata": {},
   "outputs": [],
   "source": []
  },
  {
   "cell_type": "code",
   "execution_count": 46,
   "id": "e18bda12",
   "metadata": {},
   "outputs": [],
   "source": [
    "import torch\n",
    "from torch.utils.data import DataLoader  \n",
    "from text_dataset import TextDataset  \n",
    "\n",
    "def create_data_loader(token_ids: list, context_length: int, stride: int, batch_size: int, shuffle: bool = True, device: str = \"cpu\"):\n",
    "    dataset = TextDataset(token_ids, context_length, stride) \n",
    "    generator = torch.Generator()\n",
    "    data_loader = DataLoader(\n",
    "        dataset,\n",
    "        batch_size=batch_size,\n",
    "        shuffle=shuffle,\n",
    "        generator=generator\n",
    "    )\n",
    "    return data_loader"
   ]
  },
  {
   "cell_type": "code",
   "execution_count": 47,
   "id": "ebbad3e5",
   "metadata": {},
   "outputs": [
    {
     "data": {
      "text/plain": [
       "1"
      ]
     },
     "execution_count": 47,
     "metadata": {},
     "output_type": "execute_result"
    }
   ],
   "source": [
    "train_data_loader = create_data_loader(\n",
    "    token_ids,\n",
    "    context_length,\n",
    "    stride,\n",
    "    1,\n",
    ")\n",
    "\n",
    "len(train_data_loader)"
   ]
  },
  {
   "cell_type": "code",
   "execution_count": null,
   "id": "dee2f555",
   "metadata": {},
   "outputs": [],
   "source": []
  }
 ],
 "metadata": {
  "kernelspec": {
   "display_name": "venv",
   "language": "python",
   "name": "python3"
  },
  "language_info": {
   "codemirror_mode": {
    "name": "ipython",
    "version": 3
   },
   "file_extension": ".py",
   "mimetype": "text/x-python",
   "name": "python",
   "nbconvert_exporter": "python",
   "pygments_lexer": "ipython3",
   "version": "3.11.9"
  }
 },
 "nbformat": 4,
 "nbformat_minor": 5
}
